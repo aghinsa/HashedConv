{
 "cells": [
  {
   "cell_type": "code",
   "execution_count": 1,
   "metadata": {},
   "outputs": [],
   "source": [
    "import copy\n",
    "import torch\n",
    "import numpy as np\n",
    "from tqdm.auto import tqdm\n",
    "import torch.nn as nn\n",
    "import matplotlib.pyplot as plt\n",
    "\n",
    "import seaborn as sn\n",
    "from alexnet import AlexNet\n",
    "from utils import evaluate,cifar10_loader\n"
   ]
  },
  {
   "cell_type": "code",
   "execution_count": 2,
   "metadata": {},
   "outputs": [
    {
     "name": "stdout",
     "output_type": "stream",
     "text": [
      "0.96846\n"
     ]
    }
   ],
   "source": [
    "alexnet = AlexNet()\n",
    "alexnet.load_state_dict(torch.load(\"./alexnet_pretrained\"))\n",
    "alexnet.cuda()\n",
    "trainloader,testloader = cifar10_loader(256,\"../data\")\n",
    "print(evaluate(alexnet,trainloader,True))"
   ]
  },
  {
   "cell_type": "code",
   "execution_count": 3,
   "metadata": {},
   "outputs": [
    {
     "name": "stderr",
     "output_type": "stream",
     "text": [
      "/home/aghinsa/anaconda3/lib/python3.6/site-packages/scipy/stats/stats.py:1713: FutureWarning: Using a non-tuple sequence for multidimensional indexing is deprecated; use `arr[tuple(seq)]` instead of `arr[seq]`. In the future this will be interpreted as an array index, `arr[np.array(seq)]`, which will result either in an error or a different result.\n",
      "  return np.add.reduce(sorted[indexer] * weights, axis=axis) / sumval\n"
     ]
    },
    {
     "data": {
      "image/png": "[encoded data removed]",
      "text/plain": [
       "<Figure size 432x288 with 1 Axes>"
      ]
     },
     "metadata": {
      "needs_background": "light"
     },
     "output_type": "display_data"
    }
   ],
   "source": [
    "w = alexnet.conv1.weight.data.cpu()\n",
    "sn.distplot(w.reshape(-1,1),bins=64,norm_hist=True)\n",
    "plt.show()"
   ]
  },
  {
   "cell_type": "code",
   "execution_count": 4,
   "metadata": {},
   "outputs": [],
   "source": [
    "class LayerData:\n",
    "    def __init__(self):\n",
    "        self.fs = None\n",
    "        self.w = None\n",
    "        self.n_out = None\n",
    "        self.hashed_weight = None"
   ]
  },
  {
   "cell_type": "code",
   "execution_count": 16,
   "metadata": {},
   "outputs": [],
   "source": [
    "class BitQuantizer:\n",
    "\n",
    "    def __init__(self,n_fs,n_bits,layer_names,):\n",
    "        self.n_fs = n_fs\n",
    "        self.n_bits = n_bits\n",
    "        self.layer_names = layer_names\n",
    "        for layer_name in layer_names:\n",
    "            setattr(self,layer_name,LayerData())\n",
    "        self.all_encodings = self.get_binary_encodings(self.n_bits)\n",
    "        self.all_encodings = torch.from_numpy(self.all_encodings).float().cuda()\n",
    "            \n",
    "    def _init_hashed_coefs(self,w,n):\n",
    "        hist,bin_edges = np.histogram(w,bins=64,density = True)    \n",
    "        vals = list(zip(hist,bin_edges[1:]))\n",
    "        vals.sort(key = lambda x:x[0],reverse=True)\n",
    "        vals = [ x[1] for x in vals[:6]  ]\n",
    "        return np.array(vals).reshape(-1,1)\n",
    "    \n",
    "    def init_hash_functions(self,model):\n",
    "        for layer in self.layer_names:\n",
    "            w = getattr(model,layer).weight.data\n",
    "            coefs = self._init_hashed_coefs(w.cpu(),self.n_bits)\n",
    "            getattr(self,layer).fs = torch.from_numpy(np.repeat(coefs.reshape(1,-1),self.n_fs,axis=0)).cuda()\n",
    "            getattr(self,layer).w = w\n",
    "            getattr(self,layer).n_out = w.size()[0]\n",
    "            \n",
    "    \n",
    "    def get_binary_encodings(self,n):\n",
    "        \"\"\"\n",
    "        Generates all permutations of 1,-1 of given length n\n",
    "        \"\"\"\n",
    "        ans = []\n",
    "        low = (1<<n)\n",
    "        high = (low << 1)\n",
    "\n",
    "        for tx in range(low,high):\n",
    "            tans = [-1]*n\n",
    "            for j in range(n):\n",
    "                if tx & (1<<j) :\n",
    "                    tans[j]=1\n",
    "            ans.append(tans)\n",
    "        return np.array(ans)\n",
    "\n",
    "    def train_hash_functions_for_layer(self,layer_name,n_iter = 100):\n",
    "        layer_data = getattr(self,layer_name)\n",
    "        w_master = layer_data.w\n",
    "        \n",
    "        with torch.no_grad():\n",
    "            with torch.cuda.device(\"gpu\"):\n",
    "                for _ in tqdm(range(n_iter)):\n",
    "                    channel_step = layer_data.n_out//self.n_fs\n",
    "\n",
    "                    new_fs = []\n",
    "                    new_ws = []\n",
    "\n",
    "                    for fidx in range(0,self.n_fs):\n",
    "                        # select hash functions for the channel batch\n",
    "                        f = layer_data.fs[fidx].reshape(-1,1) #[nb,1]\n",
    "\n",
    "                        if fidx != self.n_fs-1:\n",
    "                            wx = w_master[fidx*channel_step:(fidx+1)*channel_step,:,:,: ] # [channel_step,inc,k,k]\n",
    "                        else:\n",
    "                            wx = w_master[fidx*channel_step:,:,:,: ] # [channel_step,inc,k,k]\n",
    "\n",
    "                        # finding encoding for qhich quant level is closest to w\n",
    "                        w = wx.reshape(-1,1)\n",
    "                        quant_levels = torch.matmul(self.all_encodings, f) # [2^nb,1]\n",
    "\n",
    "                        w = torch.abs( w - quant_levels.t()) # [m,2^nb]\n",
    "\n",
    "                        idx = torch.argmin(w,dim = -1)\n",
    "\n",
    "                        selected_encoding = self.all_encodings[idx] #[m,nbins]\n",
    "\n",
    "                        # From the selected encodings generate hash values\n",
    "                        new_w = torch.matmul(selected_encoding,f).reshape(wx.size())\n",
    "                        new_ws.append(new_w)\n",
    "\n",
    "                        # optimizing coefficients which minimizes square loss with\n",
    "                        # current unhashed weights\n",
    "\n",
    "                        # self.sgd.fit(selected_encoding.cpu(),wx.reshape(-1).cpu())\n",
    "                        # f_new_bin = self.sgd.coef_\n",
    "                        # f_new_bin = torch.from_numpy(f_new_bin).reshape(1,-1).float().cuda()\n",
    "                        # new_fs.append(f_new_bin)\n",
    "\n",
    "                        s = selected_encoding #[m,nb]\n",
    "                        psued_inv = torch.pinverse(s)\n",
    "                        f_new_bin = torch.matmul(psued_inv,wx.reshape(-1,1)) #[nb,1]\n",
    "                        new_fs.append(f_new_bin.t())\n",
    "\n",
    "                    new_fs = torch.cat(new_fs,axis=0)\n",
    "                    alpha = 0.1\n",
    "                    layer_data.fs = layer_data.fs + alpha * (new_fs - layer_data.fs)\n",
    "\n",
    "\n",
    "            hashed_weight = torch.cat(new_ws,axis=0)\n",
    "            layer_data.hashed_weight = hashed_weight\n",
    "            \n",
    "        setattr(self,layer_name,layer_data)\n",
    "        return\n",
    "    \n",
    "    def train_hash_functions(self,layer_names= None,n_iter = 100):\n",
    "        if layer_names is None:\n",
    "            layer_names = self.layer_names\n",
    "        for layer_name in self.layer_names:\n",
    "            print(f\"hashing layer: {layer_name}\")\n",
    "            self.train_hash_functions_for_layer(layer_name,n_iter)\n",
    "    \n",
    "    def hash_model_layers(self,input_model,layer_names = None):\n",
    "        model = copy.deepcopy(input_model)\n",
    "        \n",
    "        if layer_names is None:\n",
    "            layer_names = self.layer_names\n",
    "        for layer_name in layer_names:\n",
    "            getattr(model,layer_name).weight = nn.Parameter(\n",
    "                getattr(self,layer_name).hashed_weight)\n",
    "        return model\n",
    "\n",
    "            \n",
    "        "
   ]
  },
  {
   "cell_type": "code",
   "execution_count": 17,
   "metadata": {},
   "outputs": [
    {
     "ename": "AttributeError",
     "evalue": "'AlexNet' object has no attribute 'fc1'",
     "output_type": "error",
     "traceback": [
      "\u001b[0;31m---------------------------------------------------------------------------\u001b[0m",
      "\u001b[0;31mAttributeError\u001b[0m                            Traceback (most recent call last)",
      "\u001b[0;32m<ipython-input-17-dadc85175057>\u001b[0m in \u001b[0;36m<module>\u001b[0;34m\u001b[0m\n\u001b[1;32m      3\u001b[0m \u001b[0mlayer_names\u001b[0m \u001b[0;34m=\u001b[0m \u001b[0;34m[\u001b[0m\u001b[0;34m\"conv1\"\u001b[0m\u001b[0;34m,\u001b[0m\u001b[0;34m\"conv2\"\u001b[0m\u001b[0;34m,\u001b[0m\u001b[0;34m\"conv3\"\u001b[0m\u001b[0;34m,\u001b[0m\u001b[0;34m\"conv4\"\u001b[0m\u001b[0;34m,\u001b[0m\u001b[0;34m\"conv5\"\u001b[0m\u001b[0;34m,\u001b[0m\u001b[0;34m\"fc1\"\u001b[0m\u001b[0;34m,\u001b[0m\u001b[0;34m\"fc2\"\u001b[0m\u001b[0;34m]\u001b[0m\u001b[0;34m\u001b[0m\u001b[0;34m\u001b[0m\u001b[0m\n\u001b[1;32m      4\u001b[0m \u001b[0mb\u001b[0m \u001b[0;34m=\u001b[0m \u001b[0mBitQuantizer\u001b[0m\u001b[0;34m(\u001b[0m\u001b[0mn_fs\u001b[0m\u001b[0;34m,\u001b[0m\u001b[0mn_bits\u001b[0m\u001b[0;34m,\u001b[0m\u001b[0mlayer_names\u001b[0m\u001b[0;34m)\u001b[0m\u001b[0;34m\u001b[0m\u001b[0;34m\u001b[0m\u001b[0m\n\u001b[0;32m----> 5\u001b[0;31m \u001b[0mb\u001b[0m\u001b[0;34m.\u001b[0m\u001b[0minit_hash_functions\u001b[0m\u001b[0;34m(\u001b[0m\u001b[0malexnet\u001b[0m\u001b[0;34m)\u001b[0m\u001b[0;34m\u001b[0m\u001b[0;34m\u001b[0m\u001b[0m\n\u001b[0m",
      "\u001b[0;32m<ipython-input-16-a534079ac979>\u001b[0m in \u001b[0;36minit_hash_functions\u001b[0;34m(self, model)\u001b[0m\n\u001b[1;32m     19\u001b[0m     \u001b[0;32mdef\u001b[0m \u001b[0minit_hash_functions\u001b[0m\u001b[0;34m(\u001b[0m\u001b[0mself\u001b[0m\u001b[0;34m,\u001b[0m\u001b[0mmodel\u001b[0m\u001b[0;34m)\u001b[0m\u001b[0;34m:\u001b[0m\u001b[0;34m\u001b[0m\u001b[0;34m\u001b[0m\u001b[0m\n\u001b[1;32m     20\u001b[0m         \u001b[0;32mfor\u001b[0m \u001b[0mlayer\u001b[0m \u001b[0;32min\u001b[0m \u001b[0mself\u001b[0m\u001b[0;34m.\u001b[0m\u001b[0mlayer_names\u001b[0m\u001b[0;34m:\u001b[0m\u001b[0;34m\u001b[0m\u001b[0;34m\u001b[0m\u001b[0m\n\u001b[0;32m---> 21\u001b[0;31m             \u001b[0mw\u001b[0m \u001b[0;34m=\u001b[0m \u001b[0mgetattr\u001b[0m\u001b[0;34m(\u001b[0m\u001b[0mmodel\u001b[0m\u001b[0;34m,\u001b[0m\u001b[0mlayer\u001b[0m\u001b[0;34m)\u001b[0m\u001b[0;34m.\u001b[0m\u001b[0mweight\u001b[0m\u001b[0;34m.\u001b[0m\u001b[0mdata\u001b[0m\u001b[0;34m\u001b[0m\u001b[0;34m\u001b[0m\u001b[0m\n\u001b[0m\u001b[1;32m     22\u001b[0m             \u001b[0mcoefs\u001b[0m \u001b[0;34m=\u001b[0m \u001b[0mself\u001b[0m\u001b[0;34m.\u001b[0m\u001b[0m_init_hashed_coefs\u001b[0m\u001b[0;34m(\u001b[0m\u001b[0mw\u001b[0m\u001b[0;34m.\u001b[0m\u001b[0mcpu\u001b[0m\u001b[0;34m(\u001b[0m\u001b[0;34m)\u001b[0m\u001b[0;34m,\u001b[0m\u001b[0mself\u001b[0m\u001b[0;34m.\u001b[0m\u001b[0mn_bits\u001b[0m\u001b[0;34m)\u001b[0m\u001b[0;34m\u001b[0m\u001b[0;34m\u001b[0m\u001b[0m\n\u001b[1;32m     23\u001b[0m             \u001b[0mgetattr\u001b[0m\u001b[0;34m(\u001b[0m\u001b[0mself\u001b[0m\u001b[0;34m,\u001b[0m\u001b[0mlayer\u001b[0m\u001b[0;34m)\u001b[0m\u001b[0;34m.\u001b[0m\u001b[0mfs\u001b[0m \u001b[0;34m=\u001b[0m \u001b[0mtorch\u001b[0m\u001b[0;34m.\u001b[0m\u001b[0mfrom_numpy\u001b[0m\u001b[0;34m(\u001b[0m\u001b[0mnp\u001b[0m\u001b[0;34m.\u001b[0m\u001b[0mrepeat\u001b[0m\u001b[0;34m(\u001b[0m\u001b[0mcoefs\u001b[0m\u001b[0;34m.\u001b[0m\u001b[0mreshape\u001b[0m\u001b[0;34m(\u001b[0m\u001b[0;36m1\u001b[0m\u001b[0;34m,\u001b[0m\u001b[0;34m-\u001b[0m\u001b[0;36m1\u001b[0m\u001b[0;34m)\u001b[0m\u001b[0;34m,\u001b[0m\u001b[0mself\u001b[0m\u001b[0;34m.\u001b[0m\u001b[0mn_fs\u001b[0m\u001b[0;34m,\u001b[0m\u001b[0maxis\u001b[0m\u001b[0;34m=\u001b[0m\u001b[0;36m0\u001b[0m\u001b[0;34m)\u001b[0m\u001b[0;34m)\u001b[0m\u001b[0;34m.\u001b[0m\u001b[0mcuda\u001b[0m\u001b[0;34m(\u001b[0m\u001b[0;34m)\u001b[0m\u001b[0;34m\u001b[0m\u001b[0;34m\u001b[0m\u001b[0m\n",
      "\u001b[0;32m~/anaconda3/lib/python3.6/site-packages/torch/nn/modules/module.py\u001b[0m in \u001b[0;36m__getattr__\u001b[0;34m(self, name)\u001b[0m\n\u001b[1;32m    574\u001b[0m                 \u001b[0;32mreturn\u001b[0m \u001b[0mmodules\u001b[0m\u001b[0;34m[\u001b[0m\u001b[0mname\u001b[0m\u001b[0;34m]\u001b[0m\u001b[0;34m\u001b[0m\u001b[0;34m\u001b[0m\u001b[0m\n\u001b[1;32m    575\u001b[0m         raise AttributeError(\"'{}' object has no attribute '{}'\".format(\n\u001b[0;32m--> 576\u001b[0;31m             type(self).__name__, name))\n\u001b[0m\u001b[1;32m    577\u001b[0m \u001b[0;34m\u001b[0m\u001b[0m\n\u001b[1;32m    578\u001b[0m     \u001b[0;32mdef\u001b[0m \u001b[0m__setattr__\u001b[0m\u001b[0;34m(\u001b[0m\u001b[0mself\u001b[0m\u001b[0;34m,\u001b[0m \u001b[0mname\u001b[0m\u001b[0;34m,\u001b[0m \u001b[0mvalue\u001b[0m\u001b[0;34m)\u001b[0m\u001b[0;34m:\u001b[0m\u001b[0;34m\u001b[0m\u001b[0;34m\u001b[0m\u001b[0m\n",
      "\u001b[0;31mAttributeError\u001b[0m: 'AlexNet' object has no attribute 'fc1'"
     ]
    }
   ],
   "source": [
    "n_fs = 16\n",
    "n_bits = 6\n",
    "layer_names = [\"conv1\",\"conv2\",\"conv3\",\"conv4\",\"conv5\",\"fc1\",\"fc2\"]\n",
    "b = BitQuantizer(n_fs,n_bits,layer_names)\n",
    "b.init_hash_functions(alexnet)"
   ]
  },
  {
   "cell_type": "code",
   "execution_count": 7,
   "metadata": {},
   "outputs": [
    {
     "name": "stdout",
     "output_type": "stream",
     "text": [
      "hashing layer: conv1\n"
     ]
    },
    {
     "data": {
      "application/vnd.jupyter.widget-view+json": {
       "model_id": "930589f7430f40baa68e3136a41b2acd",
       "version_major": 2,
       "version_minor": 0
      },
      "text/plain": [
       "HBox(children=(IntProgress(value=0, max=1000), HTML(value='')))"
      ]
     },
     "metadata": {},
     "output_type": "display_data"
    },
    {
     "name": "stdout",
     "output_type": "stream",
     "text": [
      "\n",
      "hashing layer: conv2\n"
     ]
    },
    {
     "data": {
      "application/vnd.jupyter.widget-view+json": {
       "model_id": "0045b1c1022c478d878d52d5bba82556",
       "version_major": 2,
       "version_minor": 0
      },
      "text/plain": [
       "HBox(children=(IntProgress(value=0, max=1000), HTML(value='')))"
      ]
     },
     "metadata": {},
     "output_type": "display_data"
    },
    {
     "name": "stdout",
     "output_type": "stream",
     "text": [
      "\n",
      "hashing layer: conv3\n"
     ]
    },
    {
     "data": {
      "application/vnd.jupyter.widget-view+json": {
       "model_id": "875d510ba40c4c9aadd3ccf4979bda93",
       "version_major": 2,
       "version_minor": 0
      },
      "text/plain": [
       "HBox(children=(IntProgress(value=0, max=1000), HTML(value='')))"
      ]
     },
     "metadata": {},
     "output_type": "display_data"
    },
    {
     "name": "stdout",
     "output_type": "stream",
     "text": [
      "\n",
      "hashing layer: conv4\n"
     ]
    },
    {
     "data": {
      "application/vnd.jupyter.widget-view+json": {
       "model_id": "9003f4eabb534b39ba1248a34e3b9377",
       "version_major": 2,
       "version_minor": 0
      },
      "text/plain": [
       "HBox(children=(IntProgress(value=0, max=1000), HTML(value='')))"
      ]
     },
     "metadata": {},
     "output_type": "display_data"
    },
    {
     "name": "stdout",
     "output_type": "stream",
     "text": [
      "\n",
      "hashing layer: conv5\n"
     ]
    },
    {
     "data": {
      "application/vnd.jupyter.widget-view+json": {
       "model_id": "aaf3f53bffd14aacb2dc8baae12111b4",
       "version_major": 2,
       "version_minor": 0
      },
      "text/plain": [
       "HBox(children=(IntProgress(value=0, max=1000), HTML(value='')))"
      ]
     },
     "metadata": {},
     "output_type": "display_data"
    },
    {
     "name": "stdout",
     "output_type": "stream",
     "text": [
      "\n"
     ]
    }
   ],
   "source": [
    "b.train_hash_functions(n_iter = 1000)\n",
    "hashed_model = b.hash_model_layers(input_model = alexnet)\n",
    "hashed_model = hashed_model.cuda()\n",
    "evaluate(hashed_model,trainloader,cuda=True)"
   ]
  },
  {
   "cell_type": "code",
   "execution_count": 8,
   "metadata": {},
   "outputs": [],
   "source": []
  },
  {
   "cell_type": "code",
   "execution_count": 9,
   "metadata": {},
   "outputs": [],
   "source": []
  },
  {
   "cell_type": "code",
   "execution_count": 10,
   "metadata": {},
   "outputs": [
    {
     "data": {
      "text/plain": [
       "0.96574"
      ]
     },
     "execution_count": 10,
     "metadata": {},
     "output_type": "execute_result"
    }
   ],
   "source": []
  },
  {
   "cell_type": "code",
   "execution_count": null,
   "metadata": {},
   "outputs": [],
   "source": []
  }
 ],
 "metadata": {
  "kernelspec": {
   "display_name": "Python 3",
   "language": "python",
   "name": "python3"
  },
  "language_info": {
   "codemirror_mode": {
    "name": "ipython",
    "version": 3
   },
   "file_extension": ".py",
   "mimetype": "text/x-python",
   "name": "python",
   "nbconvert_exporter": "python",
   "pygments_lexer": "ipython3",
   "version": "3.6.10"
  }
 },
 "nbformat": 4,
 "nbformat_minor": 2
}
